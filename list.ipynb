{
 "cells": [
  {
   "cell_type": "markdown",
   "id": "65d33f56",
   "metadata": {},
   "source": [
    "# Objects of built-in types like (int, float, bool, str, tuple, Unicode) are immutable.\n",
    "Objects of built-in types like (list, set, dict) are mutable. A list is a mutable as we can\n",
    "insert/delete/reassign values in a list."
   ]
  },
  {
   "cell_type": "markdown",
   "id": "462ddb4c",
   "metadata": {},
   "source": [
    "# list can hold any type of datatype inside it and it is mutable\n",
    "li=[1,2,3,4]\n",
    "print(li)"
   ]
  },
  {
   "cell_type": "code",
   "execution_count": 3,
   "id": "dc0eb4ad",
   "metadata": {},
   "outputs": [
    {
     "data": {
      "text/plain": [
       "[1, 2, 3, 'anuj', 3.3]"
      ]
     },
     "execution_count": 3,
     "metadata": {},
     "output_type": "execute_result"
    }
   ],
   "source": [
    "l2=[1,2,3,\"anuj\",3.3]\n",
    "l2"
   ]
  },
  {
   "cell_type": "code",
   "execution_count": 2,
   "id": "5e61ac74",
   "metadata": {},
   "outputs": [
    {
     "data": {
      "text/plain": [
       "list"
      ]
     },
     "execution_count": 2,
     "metadata": {},
     "output_type": "execute_result"
    }
   ],
   "source": [
    "type(li)"
   ]
  },
  {
   "cell_type": "code",
   "execution_count": 4,
   "id": "8108bb47",
   "metadata": {},
   "outputs": [
    {
     "data": {
      "text/plain": [
       "3.3"
      ]
     },
     "execution_count": 4,
     "metadata": {},
     "output_type": "execute_result"
    }
   ],
   "source": [
    "l2[4]\n"
   ]
  },
  {
   "cell_type": "code",
   "execution_count": 5,
   "id": "23b8a9c1",
   "metadata": {},
   "outputs": [],
   "source": [
    "l2[3]=\"chandan\""
   ]
  },
  {
   "cell_type": "code",
   "execution_count": 6,
   "id": "ac67219e",
   "metadata": {},
   "outputs": [
    {
     "data": {
      "text/plain": [
       "[1, 2, 3, 'chandan', 3.3]"
      ]
     },
     "execution_count": 6,
     "metadata": {},
     "output_type": "execute_result"
    }
   ],
   "source": [
    "l2"
   ]
  },
  {
   "cell_type": "code",
   "execution_count": 7,
   "id": "f999aaf9",
   "metadata": {},
   "outputs": [
    {
     "data": {
      "text/plain": [
       "[1, 2, 3, 'chandan', 3.3, 34]"
      ]
     },
     "execution_count": 7,
     "metadata": {},
     "output_type": "execute_result"
    }
   ],
   "source": [
    "## append ka use hm at last of list kisi ko insert krne k liye use krte hai\n",
    "l2.append(34)\n",
    "l2"
   ]
  },
  {
   "cell_type": "code",
   "execution_count": 13,
   "id": "52214918",
   "metadata": {},
   "outputs": [
    {
     "data": {
      "text/plain": [
       "[1, 2, 12, 12, 12, 3, 'chandan', 3.3, 'anuj', 34, 'anuj']"
      ]
     },
     "execution_count": 13,
     "metadata": {},
     "output_type": "execute_result"
    }
   ],
   "source": [
    "##insert ka use hm kisi position pr insert krne k liye use krte hai\n",
    "l2.insert(2,12)\n",
    "l2\n",
    "l2.insert(8,\"anuj\")##ise frk nhi pdta ki index out of range hai ye at last hi store kr leta hai\n",
    "l2\n"
   ]
  },
  {
   "cell_type": "markdown",
   "id": "8835bcbd",
   "metadata": {},
   "source": [
    "# slicing"
   ]
  },
  {
   "cell_type": "code",
   "execution_count": 11,
   "id": "68e2db44",
   "metadata": {},
   "outputs": [
    {
     "data": {
      "text/plain": [
       "[2, 12, 3]"
      ]
     },
     "execution_count": 11,
     "metadata": {},
     "output_type": "execute_result"
    }
   ],
   "source": [
    "l2[1:4]\n"
   ]
  },
  {
   "cell_type": "code",
   "execution_count": 14,
   "id": "2ec3ac56",
   "metadata": {},
   "outputs": [
    {
     "data": {
      "text/plain": [
       "[1, 2, 12, 12, 12, 3, 'chandan', 3.3, 'anuj', 34, 'anuj', [9, 10, 11]]"
      ]
     },
     "execution_count": 14,
     "metadata": {},
     "output_type": "execute_result"
    }
   ],
   "source": [
    "## append a list inside a list it creates data as list \n",
    "l2.append([9,10,11])\n",
    "l2"
   ]
  },
  {
   "cell_type": "code",
   "execution_count": 22,
   "id": "eaebd217",
   "metadata": {},
   "outputs": [],
   "source": [
    "## if include multiple data without a creating list as a object\n",
    "\n"
   ]
  },
  {
   "cell_type": "code",
   "execution_count": 27,
   "id": "51df8b4e",
   "metadata": {},
   "outputs": [
    {
     "data": {
      "text/plain": [
       "[1, 2, 3, 4, 5, 5, 7, 8, 9, 10]"
      ]
     },
     "execution_count": 27,
     "metadata": {},
     "output_type": "execute_result"
    }
   ],
   "source": [
    "l3=[1,2,3,4,5,5,7]\n",
    "l3.extend([8,9,10])\n",
    "l3"
   ]
  },
  {
   "cell_type": "code",
   "execution_count": 30,
   "id": "30f4286f",
   "metadata": {},
   "outputs": [
    {
     "data": {
      "text/plain": [
       "[1, 2, 3, 4, 7, 8, 9, 10]"
      ]
     },
     "execution_count": 30,
     "metadata": {},
     "output_type": "execute_result"
    }
   ],
   "source": [
    "## remove and pop\n",
    "l3.remove(5)\n",
    "l3\n"
   ]
  },
  {
   "cell_type": "code",
   "execution_count": 31,
   "id": "7387170b",
   "metadata": {},
   "outputs": [
    {
     "data": {
      "text/plain": [
       "10"
      ]
     },
     "execution_count": 31,
     "metadata": {},
     "output_type": "execute_result"
    }
   ],
   "source": [
    "l3.pop()"
   ]
  },
  {
   "cell_type": "code",
   "execution_count": 32,
   "id": "414bf3de",
   "metadata": {},
   "outputs": [
    {
     "data": {
      "text/plain": [
       "[1, 2, 3, 4, 7, 8, 9]"
      ]
     },
     "execution_count": 32,
     "metadata": {},
     "output_type": "execute_result"
    }
   ],
   "source": [
    "l3"
   ]
  },
  {
   "cell_type": "code",
   "execution_count": 33,
   "id": "77ac5ba1",
   "metadata": {},
   "outputs": [
    {
     "data": {
      "text/plain": [
       "4"
      ]
     },
     "execution_count": 33,
     "metadata": {},
     "output_type": "execute_result"
    }
   ],
   "source": [
    "l3.pop(3)"
   ]
  },
  {
   "cell_type": "markdown",
   "id": "d8ac3a4f",
   "metadata": {},
   "source": [
    "## negative indexing"
   ]
  },
  {
   "cell_type": "code",
   "execution_count": 1,
   "id": "66fbe4e3",
   "metadata": {},
   "outputs": [
    {
     "data": {
      "text/plain": [
       "[1, 2, 3, 4, 5, 6]"
      ]
     },
     "execution_count": 1,
     "metadata": {},
     "output_type": "execute_result"
    }
   ],
   "source": [
    "li=[1,2,3,4,5,6]\n",
    "li"
   ]
  },
  {
   "cell_type": "code",
   "execution_count": 2,
   "id": "af182b43",
   "metadata": {},
   "outputs": [
    {
     "data": {
      "text/plain": [
       "6"
      ]
     },
     "execution_count": 2,
     "metadata": {},
     "output_type": "execute_result"
    }
   ],
   "source": [
    "li[-1]"
   ]
  },
  {
   "cell_type": "code",
   "execution_count": 3,
   "id": "24458213",
   "metadata": {},
   "outputs": [
    {
     "data": {
      "text/plain": [
       "3"
      ]
     },
     "execution_count": 3,
     "metadata": {},
     "output_type": "execute_result"
    }
   ],
   "source": [
    "li[-4]"
   ]
  },
  {
   "cell_type": "markdown",
   "id": "14890dc0",
   "metadata": {},
   "source": [
    "## sequencing in list"
   ]
  },
  {
   "cell_type": "code",
   "execution_count": 4,
   "id": "ba26ec19",
   "metadata": {},
   "outputs": [],
   "source": [
    "l2=[1,2,3,4,5,67]"
   ]
  },
  {
   "cell_type": "code",
   "execution_count": 5,
   "id": "b5c0370c",
   "metadata": {},
   "outputs": [
    {
     "data": {
      "text/plain": [
       "[1, 2, 3, 4, 5, 67]"
      ]
     },
     "execution_count": 5,
     "metadata": {},
     "output_type": "execute_result"
    }
   ],
   "source": [
    "l2"
   ]
  },
  {
   "cell_type": "code",
   "execution_count": 6,
   "id": "c6457faa",
   "metadata": {},
   "outputs": [
    {
     "data": {
      "text/plain": [
       "[2, 3, 4]"
      ]
     },
     "execution_count": 6,
     "metadata": {},
     "output_type": "execute_result"
    }
   ],
   "source": [
    "l2[1:4:1]"
   ]
  },
  {
   "cell_type": "code",
   "execution_count": 7,
   "id": "4fcc757c",
   "metadata": {},
   "outputs": [
    {
     "data": {
      "text/plain": [
       "[2, 3, 4, 5, 67]"
      ]
     },
     "execution_count": 7,
     "metadata": {},
     "output_type": "execute_result"
    }
   ],
   "source": [
    "l2[1:]"
   ]
  },
  {
   "cell_type": "code",
   "execution_count": 8,
   "id": "fa2267d7",
   "metadata": {},
   "outputs": [
    {
     "data": {
      "text/plain": [
       "[1, 2, 3, 4, 5]"
      ]
     },
     "execution_count": 8,
     "metadata": {},
     "output_type": "execute_result"
    }
   ],
   "source": [
    "l2[:5]"
   ]
  },
  {
   "cell_type": "markdown",
   "id": "e41d5511",
   "metadata": {},
   "source": [
    "## line separeted input"
   ]
  },
  {
   "cell_type": "code",
   "execution_count": 10,
   "id": "0b16faf3",
   "metadata": {},
   "outputs": [
    {
     "name": "stdout",
     "output_type": "stream",
     "text": [
      "2\n"
     ]
    },
    {
     "data": {
      "text/plain": [
       "'2'"
      ]
     },
     "execution_count": 10,
     "metadata": {},
     "output_type": "execute_result"
    }
   ],
   "source": [
    "## by default agr hm koi input lete hai to wo as a string hi jata hai kyuki hme pta hai python line by line read krta hai\n",
    "n=input()## as a strinhg hai\n",
    "n    "
   ]
  },
  {
   "cell_type": "code",
   "execution_count": 11,
   "id": "9bb10d03",
   "metadata": {},
   "outputs": [
    {
     "name": "stdout",
     "output_type": "stream",
     "text": [
      "4\n"
     ]
    },
    {
     "data": {
      "text/plain": [
       "4"
      ]
     },
     "execution_count": 11,
     "metadata": {},
     "output_type": "execute_result"
    }
   ],
   "source": [
    "n=int(input())##ye as a integer input hai\n",
    "n"
   ]
  },
  {
   "cell_type": "code",
   "execution_count": 12,
   "id": "ec6df863",
   "metadata": {},
   "outputs": [
    {
     "name": "stdout",
     "output_type": "stream",
     "text": [
      "1\n",
      "2\n",
      "3\n",
      "4\n"
     ]
    }
   ],
   "source": [
    "li=[]\n",
    "for i in range(n):\n",
    "    curr=int(input())\n",
    "    li.append(curr)"
   ]
  },
  {
   "cell_type": "code",
   "execution_count": 13,
   "id": "2fbc78c2",
   "metadata": {},
   "outputs": [
    {
     "data": {
      "text/plain": [
       "[1, 2, 3, 4]"
      ]
     },
     "execution_count": 13,
     "metadata": {},
     "output_type": "execute_result"
    }
   ],
   "source": [
    "li"
   ]
  },
  {
   "cell_type": "markdown",
   "id": "a62b7c4f",
   "metadata": {},
   "source": [
    "## space separeted input"
   ]
  },
  {
   "cell_type": "code",
   "execution_count": 15,
   "id": "1244d8d9",
   "metadata": {},
   "outputs": [
    {
     "name": "stdout",
     "output_type": "stream",
     "text": [
      "1 2 3 4 4 5\n"
     ]
    },
    {
     "data": {
      "text/plain": [
       "[1, 2, 3, 4, 4, 5]"
      ]
     },
     "execution_count": 15,
     "metadata": {},
     "output_type": "execute_result"
    }
   ],
   "source": [
    "str = input()\n",
    "l1=str.split()\n",
    "l2=[]\n",
    "for x in l1:\n",
    "    l2.append(int(x))\n",
    "l2\n",
    "    "
   ]
  },
  {
   "cell_type": "code",
   "execution_count": 16,
   "id": "b5f05826",
   "metadata": {},
   "outputs": [],
   "source": [
    "## short cut"
   ]
  },
  {
   "cell_type": "code",
   "execution_count": 18,
   "id": "88d1ded3",
   "metadata": {},
   "outputs": [
    {
     "name": "stdout",
     "output_type": "stream",
     "text": [
      "1 2 3 4 5\n"
     ]
    },
    {
     "data": {
      "text/plain": [
       "[1, 2, 3, 4, 5]"
      ]
     },
     "execution_count": 18,
     "metadata": {},
     "output_type": "execute_result"
    }
   ],
   "source": [
    "\n",
    "l1=[int(x) for x in input().split()]\n",
    "l1"
   ]
  },
  {
   "cell_type": "code",
   "execution_count": 1,
   "id": "3c6b8786",
   "metadata": {},
   "outputs": [
    {
     "data": {
      "text/plain": [
       "71"
      ]
     },
     "execution_count": 1,
     "metadata": {},
     "output_type": "execute_result"
    }
   ],
   "source": [
    "l1=[1,4,5,64,71,23]\n",
    "max(l1)"
   ]
  },
  {
   "cell_type": "code",
   "execution_count": 2,
   "id": "7ee48395",
   "metadata": {},
   "outputs": [],
   "source": [
    "#some important methods used in list\n",
    "## append-adding elements at the end of list\n",
    "## extend-adding another list at the end of list\n",
    "## max-maximum element in the list\n",
    "## min-minimum element in the list\n",
    "##these methods me are seeing above\n",
    "##no we are moving some more methods\n"
   ]
  },
  {
   "cell_type": "code",
   "execution_count": 4,
   "id": "3748e8cc",
   "metadata": {},
   "outputs": [
    {
     "data": {
      "text/plain": [
       "66"
      ]
     },
     "execution_count": 4,
     "metadata": {},
     "output_type": "execute_result"
    }
   ],
   "source": [
    "list1=[1,2,3,4,56]\n",
    "sum1=sum(list1)\n",
    "sum1\n",
    "##it is used to calculate the sum of list"
   ]
  },
  {
   "cell_type": "code",
   "execution_count": 5,
   "id": "a3c76640",
   "metadata": {},
   "outputs": [
    {
     "data": {
      "text/plain": [
       "3"
      ]
     },
     "execution_count": 5,
     "metadata": {},
     "output_type": "execute_result"
    }
   ],
   "source": [
    "##count-return the total no of times a given element occur\n",
    "list2=[1,2,3,3,3,4,5,6,6,6,7,7]\n",
    "c=list2.count(6)\n",
    "c"
   ]
  },
  {
   "cell_type": "code",
   "execution_count": 6,
   "id": "bb6d9bfe",
   "metadata": {},
   "outputs": [
    {
     "data": {
      "text/plain": [
       "3"
      ]
     },
     "execution_count": 6,
     "metadata": {},
     "output_type": "execute_result"
    }
   ],
   "source": [
    "##index-returns the index of first occurence of element if element is not present returns -1\n",
    "list3=[1,2,3,4,4,5,6]\n",
    "ind=list3.index(4)\n",
    "ind\n"
   ]
  },
  {
   "cell_type": "code",
   "execution_count": 7,
   "id": "b11b1f83",
   "metadata": {},
   "outputs": [
    {
     "data": {
      "text/plain": [
       "[1, 3, 4, 6]"
      ]
     },
     "execution_count": 7,
     "metadata": {},
     "output_type": "execute_result"
    }
   ],
   "source": [
    "##del-element to be deleted with list name and index\n",
    "list4=[1,3,4,5,6]\n",
    "del list4[3]\n",
    "list4"
   ]
  },
  {
   "cell_type": "code",
   "execution_count": 8,
   "id": "7e8023dc",
   "metadata": {},
   "outputs": [
    {
     "data": {
      "text/plain": [
       "[1, 4, 7, 8, 9]"
      ]
     },
     "execution_count": 8,
     "metadata": {},
     "output_type": "execute_result"
    }
   ],
   "source": [
    "## remove-element to be deleted using list name and element\n",
    "list5=[1,4,6,7,8,9]\n",
    "list5.remove(6)\n",
    "list5"
   ]
  },
  {
   "cell_type": "markdown",
   "id": "a6815f28",
   "metadata": {},
   "source": [
    "# 2D LIST\n"
   ]
  },
  {
   "cell_type": "code",
   "execution_count": 1,
   "id": "73bcb211",
   "metadata": {},
   "outputs": [
    {
     "data": {
      "text/plain": [
       "[[1, 2, 3], [4, 5, 6], [7, 8, 9]]"
      ]
     },
     "execution_count": 1,
     "metadata": {},
     "output_type": "execute_result"
    }
   ],
   "source": [
    "#2D list is called as list of lists\n",
    "li1=[[1,2,3],[4,5,6],[7,8,9]]\n",
    "li1"
   ]
  },
  {
   "cell_type": "code",
   "execution_count": 2,
   "id": "138d6115",
   "metadata": {},
   "outputs": [
    {
     "data": {
      "text/plain": [
       "5"
      ]
     },
     "execution_count": 2,
     "metadata": {},
     "output_type": "execute_result"
    }
   ],
   "source": [
    "li1[1][1]## accessing the element of the list"
   ]
  },
  {
   "cell_type": "code",
   "execution_count": 3,
   "id": "fd9ac5c7",
   "metadata": {},
   "outputs": [
    {
     "data": {
      "text/plain": [
       "[[1, 2, 3], [4, 5, 6], [7, 2, 4], [7, 8, 9]]"
      ]
     },
     "execution_count": 3,
     "metadata": {},
     "output_type": "execute_result"
    }
   ],
   "source": [
    "##inert a list in any index\n",
    "li1.insert(2,[7,2,4]);\n",
    "li1"
   ]
  },
  {
   "cell_type": "code",
   "execution_count": 4,
   "id": "c28cc41b",
   "metadata": {},
   "outputs": [
    {
     "data": {
      "text/plain": [
       "'a-b-c-d'"
      ]
     },
     "execution_count": 4,
     "metadata": {},
     "output_type": "execute_result"
    }
   ],
   "source": [
    "##(.join()) it is string method returns a string by joinning all the elements of a iterable sequence\n",
    "##seperated by a string operator\n",
    "\"-\".join(\"abcd\")"
   ]
  },
  {
   "cell_type": "code",
   "execution_count": 5,
   "id": "caf824ff",
   "metadata": {},
   "outputs": [
    {
     "data": {
      "text/plain": [
       "'a-b-c-d'"
      ]
     },
     "execution_count": 5,
     "metadata": {},
     "output_type": "execute_result"
    }
   ],
   "source": [
    "\"-\".join(['a','b','c','d'])"
   ]
  },
  {
   "cell_type": "code",
   "execution_count": 6,
   "id": "4e07b17b",
   "metadata": {},
   "outputs": [
    {
     "name": "stdout",
     "output_type": "stream",
     "text": [
      "1 2 3\n",
      "4 5 6\n",
      "7 2 4\n",
      "7 8 9\n"
     ]
    }
   ],
   "source": [
    "##how to print line seperate by using join\n",
    "for row in li1:\n",
    "    output=\" \".join([str(col) for col in row])\n",
    "    print(output)"
   ]
  },
  {
   "cell_type": "code",
   "execution_count": null,
   "id": "b2888243",
   "metadata": {},
   "outputs": [],
   "source": []
  }
 ],
 "metadata": {
  "kernelspec": {
   "display_name": "Python 3 (ipykernel)",
   "language": "python",
   "name": "python3"
  },
  "language_info": {
   "codemirror_mode": {
    "name": "ipython",
    "version": 3
   },
   "file_extension": ".py",
   "mimetype": "text/x-python",
   "name": "python",
   "nbconvert_exporter": "python",
   "pygments_lexer": "ipython3",
   "version": "3.11.5"
  }
 },
 "nbformat": 4,
 "nbformat_minor": 5
}
